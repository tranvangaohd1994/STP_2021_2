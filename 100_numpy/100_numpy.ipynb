{
  "nbformat": 4,
  "nbformat_minor": 0,
  "metadata": {
    "colab": {
      "name": "100_numpy.ipynb",
      "provenance": [],
      "collapsed_sections": []
    },
    "kernelspec": {
      "name": "python3",
      "display_name": "Python 3"
    },
    "language_info": {
      "name": "python"
    }
  },
  "cells": [
    {
      "cell_type": "code",
      "metadata": {
        "id": "TOtanhmlyqCI"
      },
      "source": [
        "import numpy as np\n",
        "np.__version__"
      ],
      "execution_count": null,
      "outputs": []
    },
    {
      "cell_type": "code",
      "metadata": {
        "id": "akJCLlpmy03L"
      },
      "source": [
        "np.show_config()"
      ],
      "execution_count": null,
      "outputs": []
    },
    {
      "cell_type": "code",
      "metadata": {
        "id": "qFGKLTITzU1q"
      },
      "source": [
        "arr = np.zeros(10)\n",
        "print(arr)\n",
        "print(arr.size)\n",
        "print(arr.itemsize)\n",
        "# find the memory size of any array\n",
        "print(arr.size*arr.itemsize)"
      ],
      "execution_count": null,
      "outputs": []
    },
    {
      "cell_type": "code",
      "metadata": {
        "id": "XksAxgq-HRhs"
      },
      "source": [
        "# 5.How to get the documentation of the numpy add function from the command line\n",
        "# np.info"
      ],
      "execution_count": null,
      "outputs": []
    },
    {
      "cell_type": "code",
      "metadata": {
        "id": "p-pSvjqoKxTC"
      },
      "source": [
        "arr = np.zeros(10)\n",
        "arr[4] = 1\n",
        "print(arr)"
      ],
      "execution_count": null,
      "outputs": []
    },
    {
      "cell_type": "code",
      "metadata": {
        "id": "29AAAAbZLBSj"
      },
      "source": [
        "arr = np.arange(10, 50)\n",
        "print(arr)\n",
        "arr = arr[::-1]\n",
        "print(arr)"
      ],
      "execution_count": null,
      "outputs": []
    },
    {
      "cell_type": "code",
      "metadata": {
        "id": "4d6sdxNdNkta"
      },
      "source": [
        "arr = np.arange(0,9)\n",
        "print(arr)\n",
        "arr = np.reshape(arr, (3,3))\n",
        "print(arr)"
      ],
      "execution_count": null,
      "outputs": []
    },
    {
      "cell_type": "code",
      "metadata": {
        "id": "--cmF9r4O_FN"
      },
      "source": [
        "arr = [1,2,0,0,4,0]\n",
        "print(np.nonzero(arr))"
      ],
      "execution_count": null,
      "outputs": []
    },
    {
      "cell_type": "code",
      "metadata": {
        "id": "kMBxituAPot0"
      },
      "source": [
        "arr = np.eye(3)\n",
        "print(arr)"
      ],
      "execution_count": null,
      "outputs": []
    },
    {
      "cell_type": "code",
      "metadata": {
        "id": "fjcgWgEKQQrs"
      },
      "source": [
        "# Create a 3x3x3 array with random values\n",
        "arr = np.random.random((3,3,3))\n",
        "print(arr)"
      ],
      "execution_count": null,
      "outputs": []
    },
    {
      "cell_type": "code",
      "metadata": {
        "id": "YdBYByDLRTPu"
      },
      "source": [
        "arr = np.random.random((10, 10))\n",
        "print(arr)\n",
        "print(arr.max())\n",
        "print(arr.min())"
      ],
      "execution_count": null,
      "outputs": []
    },
    {
      "cell_type": "code",
      "metadata": {
        "id": "dKhuS2jqSf2k"
      },
      "source": [
        "arr = np.random.random((30,))\n",
        "print(arr)\n",
        "print(arr.mean())"
      ],
      "execution_count": null,
      "outputs": []
    },
    {
      "cell_type": "code",
      "metadata": {
        "id": "RzBkxRcpTUgt"
      },
      "source": [
        "# Create a 2d array with 1 on the border and 0 inside\n",
        "arr = np.ones((5,5))\n",
        "print(arr)\n",
        "arr[1:-1, 1:-1] = 0\n",
        "print(arr)"
      ],
      "execution_count": null,
      "outputs": []
    },
    {
      "cell_type": "code",
      "metadata": {
        "id": "ATxPyjnHTUXm"
      },
      "source": [
        "# How to add a border (filled with 0's) around an existing array\n",
        "arr = np.ones((5,5), dtype=int)\n",
        "print(arr)\n",
        "arr = np.pad(arr, 1, 'constant',constant_values = (0) )\n",
        "print(arr)"
      ],
      "execution_count": null,
      "outputs": []
    },
    {
      "cell_type": "code",
      "metadata": {
        "id": "KRiXjIarjP09"
      },
      "source": [
        "print(0 * np.nan)\n",
        "print(np.nan == np.nan)\n",
        "print(np.inf > np.nan)\n",
        "print(np.nan - np.nan)\n",
        "print(np.nan in set([np.nan]))\n",
        "print(0.3 == 3 * 0.1)\n"
      ],
      "execution_count": null,
      "outputs": []
    },
    {
      "cell_type": "code",
      "metadata": {
        "id": "XdHjwyxaso9U"
      },
      "source": [
        "arr = np.zeros((5,5), dtype = int)\n",
        "print(arr)\n",
        "arr = np.diag([1,2,3,4], -1)\n",
        "print(arr)"
      ],
      "execution_count": null,
      "outputs": []
    },
    {
      "cell_type": "code",
      "metadata": {
        "id": "Ux9LNWQHu5R9"
      },
      "source": [
        "arr = np.ones((8,8), dtype = int)\n",
        "arr[::2, ::2] = 0\n",
        "arr[1::2, 1::2] = 0\n",
        "print(arr)"
      ],
      "execution_count": null,
      "outputs": []
    },
    {
      "cell_type": "code",
      "metadata": {
        "id": "USaJYC7nVWMx"
      },
      "source": [
        "# Consider a (6,7,8) shape array, what is the index (x,y,z) of the 100th element\n",
        "print(np.unravel_index(99, (6,7,8)))"
      ],
      "execution_count": null,
      "outputs": []
    },
    {
      "cell_type": "code",
      "metadata": {
        "id": "lUc-IhrmV7EZ"
      },
      "source": [
        "# Create a checkerboard 8x8 matrix using the tile function\n",
        "arr = np.eye(2, dtype=int)\n",
        "print(arr)\n",
        "arr = np.tile(arr, (4,4))\n",
        "print(arr)"
      ],
      "execution_count": null,
      "outputs": []
    },
    {
      "cell_type": "code",
      "metadata": {
        "id": "OVJt2VF5ZSWI"
      },
      "source": [
        "# Normalize a 5x5 random matrix\n",
        "arr = np.random.random((5,5))\n",
        "print(arr)\n",
        "e = np.std(arr)\n",
        "print(e)\n",
        "arr = (arr - arr.mean()) / e\n",
        "print(arr)"
      ],
      "execution_count": null,
      "outputs": []
    },
    {
      "cell_type": "code",
      "metadata": {
        "id": "7PoQyzLmatsO"
      },
      "source": [
        "# Create a custom dtype that describes a color as four unsigned bytes (RGBA)\n",
        "color = np.dtype([('r', np.ubyte),\n",
        "                  ('g', np.ubyte),\n",
        "                  ('b', np.ubyte),\n",
        "                  ('a', np.ubyte)])"
      ],
      "execution_count": null,
      "outputs": []
    },
    {
      "cell_type": "code",
      "metadata": {
        "id": "1xGxcE_PckDd"
      },
      "source": [
        "a = np.random.random((5,3))\n",
        "print(a)\n",
        "b = np.random.random((3,2))\n",
        "print(b)\n",
        "print(a.dot(b))"
      ],
      "execution_count": null,
      "outputs": []
    },
    {
      "cell_type": "code",
      "metadata": {
        "id": "OheO-HJ2dVBv"
      },
      "source": [
        "arr = np.arange(10)\n",
        "arr[(3<arr) & (arr<8)] *= -1\n",
        "print(arr)"
      ],
      "execution_count": null,
      "outputs": []
    },
    {
      "cell_type": "code",
      "metadata": {
        "id": "Il-tpY3qe8lJ"
      },
      "source": [
        "# What is the output of the following script? \n",
        "print(sum(range(5),-1))\n",
        "from numpy import *\n",
        "print(sum(range(5),-1))"
      ],
      "execution_count": null,
      "outputs": []
    },
    {
      "cell_type": "code",
      "metadata": {
        "id": "RQWL94jbfMTB"
      },
      "source": [
        "# Consider an integer vector Z, which of these expressions are legal?\n",
        "Z = np.arange(5)\n",
        "print(Z)\n",
        "print(Z**Z)\n",
        "print(2 << Z >> 2)\n",
        "print(Z <- Z)\n",
        "print(1j*Z)\n",
        "print(Z/1/1)\n",
        "# print(Z<Z<Z)"
      ],
      "execution_count": null,
      "outputs": []
    },
    {
      "cell_type": "code",
      "metadata": {
        "id": "RU_KlKg0iByX"
      },
      "source": [
        "print(np.array(0) / np.array(0))\n",
        "print(np.array(0) // np.array(0))\n",
        "print(np.array([np.nan]).astype(int).astype(float))"
      ],
      "execution_count": null,
      "outputs": []
    },
    {
      "cell_type": "code",
      "metadata": {
        "id": "4FYGZ3aUit6W"
      },
      "source": [
        "# How to round away from zero a float array\n",
        "arr = np.random.uniform(-5,5,10)\n",
        "print(arr)\n",
        "arr = np.abs(arr)\n",
        "# arr = np.copysign(arr, 1)\n",
        "print(arr)\n",
        "arr = np.ceil(arr)\n",
        "print(arr)\n",
        "\n",
        "# print(np.copysign(np.ceil(np.abs(arr)), arr))\n",
        "# More readable but less efficient\n",
        "# print(np.where(arr>0, np.ceil(arr), np.floor(arr)))\n"
      ],
      "execution_count": null,
      "outputs": []
    },
    {
      "cell_type": "code",
      "metadata": {
        "id": "QJEcakGDqCmh"
      },
      "source": [
        "# How to find common values between two arrays\n",
        "a = np.random.randint(0, 10, 5)\n",
        "print(a)\n",
        "b = np.random.randint(0, 10, 10)\n",
        "print(b)\n",
        "print(intersect1d(a,b))"
      ],
      "execution_count": null,
      "outputs": []
    },
    {
      "cell_type": "code",
      "metadata": {
        "id": "3rh-QQ-nC7Sf"
      },
      "source": [
        "# How to ignore all numpy warnings (not recommended)\n",
        "defaults = np.seterr(divide=\"ignore\")\n",
        "a = np.ones(1) / 0\n",
        "print(a)\n",
        "_ = np.seterr(**defaults)\n",
        "print(a)"
      ],
      "execution_count": null,
      "outputs": []
    },
    {
      "cell_type": "code",
      "metadata": {
        "id": "uhfMxAWAu1V2"
      },
      "source": [
        "np.sqrt(-1) == np.emath.sqrt(-1)"
      ],
      "execution_count": null,
      "outputs": []
    },
    {
      "cell_type": "code",
      "metadata": {
        "id": "kjJ56DIczqtx"
      },
      "source": [
        "print(np.datetime64('2021-08-29') - np.timedelta64(1,'D'))\n",
        "print(np.datetime64('2021-08-29'))\n",
        "print(np.datetime64('2021-08-29') + np.timedelta64(1,'D'))"
      ],
      "execution_count": null,
      "outputs": []
    },
    {
      "cell_type": "code",
      "metadata": {
        "id": "fdgjj-aQ0Lng"
      },
      "source": [
        "print(np.arange('2016-07','2016-08', dtype = 'datetime64[D]'))"
      ],
      "execution_count": null,
      "outputs": []
    },
    {
      "cell_type": "code",
      "metadata": {
        "id": "JUqLlYh71aOD"
      },
      "source": [
        "a = np.ones(3)\n",
        "b = np.ones(3) * 2\n",
        "np.add(a,b,out=b)\n",
        "np.negative(a, out=a)\n",
        "np.divide(a,2, out=a)\n",
        "np.multiply(a,b, out=b)\n",
        "print(b)"
      ],
      "execution_count": null,
      "outputs": []
    },
    {
      "cell_type": "code",
      "metadata": {
        "id": "neCZFuIj5XKH"
      },
      "source": [
        "arr = np.random.uniform(0,10,10)\n",
        "print(arr)\n",
        "print(arr-arr%1)\n",
        "print(np.floor(arr))\n",
        "print(arr.astype(int)*1.)\n",
        "print(np.trunc(arr))"
      ],
      "execution_count": null,
      "outputs": []
    },
    {
      "cell_type": "code",
      "metadata": {
        "id": "-lzhCw5197Qa"
      },
      "source": [
        "print(np.tile(np.arange(5), (5,1)))"
      ],
      "execution_count": null,
      "outputs": []
    },
    {
      "cell_type": "code",
      "metadata": {
        "id": "xnv2tCBp_9OQ"
      },
      "source": [
        "iterable = (x*x for x in range(10))\n",
        "arr = np.fromiter(iterable, float)\n",
        "print(arr)\n",
        "# def generate():\n",
        "#     for x in range(10):\n",
        "#         yield x\n",
        "# Z = np.fromiter(generate(),dtype=float,count=-1)\n",
        "# print(Z)"
      ],
      "execution_count": null,
      "outputs": []
    },
    {
      "cell_type": "code",
      "metadata": {
        "id": "OQd0D4dRCJ5z"
      },
      "source": [
        "arr = np.linspace(0, 1, num=10, endpoint = False)[1:]\n",
        "print(arr)"
      ],
      "execution_count": null,
      "outputs": []
    },
    {
      "cell_type": "code",
      "metadata": {
        "id": "PptWC4OyESHa"
      },
      "source": [
        "arr = np.random.randint(0,10, 10)\n",
        "arr.sort()\n",
        "print(arr)"
      ],
      "execution_count": null,
      "outputs": []
    },
    {
      "cell_type": "code",
      "metadata": {
        "id": "CtuB6-UoE37P"
      },
      "source": [
        "arr = np.arange(10)\n",
        "print(arr)\n",
        "sum = np.add.reduce(arr)\n",
        "print(sum)"
      ],
      "execution_count": null,
      "outputs": []
    },
    {
      "cell_type": "code",
      "metadata": {
        "id": "Qjih1-8mG_MZ"
      },
      "source": [
        "arr1 = np.array([1, 2])\n",
        "arr2 = np.array([1, 2])\n",
        "print(np.array_equal(arr1, arr2))\n",
        "print(np.allclose(arr1, arr2))"
      ],
      "execution_count": null,
      "outputs": []
    },
    {
      "cell_type": "code",
      "metadata": {
        "id": "JiHfyPIZILro"
      },
      "source": [
        "arr1 = np.array( [1, 2])\n",
        "arr1.flags.writeable = False\n",
        "# arr1[1] = 2"
      ],
      "execution_count": null,
      "outputs": []
    },
    {
      "cell_type": "code",
      "metadata": {
        "id": "3Eucn215JbMp"
      },
      "source": [
        "z = np.random.random((10, 2))\n",
        "print (z)\n",
        "x = z[:,0]\n",
        "print (x)\n",
        "y = z[:, 1]\n",
        "r = np.sqrt(x**2+y**2)\n",
        "anpha = np.arctan2(y,x)\n",
        "print(r)\n",
        "print(anpha)"
      ],
      "execution_count": null,
      "outputs": []
    },
    {
      "cell_type": "code",
      "metadata": {
        "id": "io9Gk9cWNQCq"
      },
      "source": [
        "arr = np.arange(10)\n",
        "arr[np.argmax(arr)] = 0\n",
        "print(arr)"
      ],
      "execution_count": null,
      "outputs": []
    },
    {
      "cell_type": "code",
      "metadata": {
        "id": "EMNDFZdsOCK1"
      },
      "source": [
        "arr = np.zeros((5,5), dtype=[('x', float),('y', float)])\n",
        "print(arr)\n",
        "x = np.linspace(0,1,5)\n",
        "y = np.linspace(0,1,5)\n",
        "arr['x'], arr['y'] = np.meshgrid(x,y)\n",
        "print(arr)\n",
        "\n",
        "# Z = np.zeros((5,5), [('x',float),('y',float)])\n",
        "# Z['x'], Z['y'] = np.meshgrid(np.linspace(0,1,5),\n",
        "#                              np.linspace(0,1,5))\n",
        "# print(Z)\n"
      ],
      "execution_count": null,
      "outputs": []
    },
    {
      "cell_type": "code",
      "metadata": {
        "id": "r3dxWlH7X-8o",
        "colab": {
          "base_uri": "https://localhost:8080/"
        },
        "outputId": "54e0f927-f800-409d-8b95-d81f44800c8a"
      },
      "source": [
        "x = np.random.randint(0,10,5)\n",
        "y = x + 1.1\n",
        "print(x,y)\n",
        "c = 1.0/np.subtract.outer(x,y)\n",
        "print(c)\n",
        "print(np.linalg.det(c))"
      ],
      "execution_count": null,
      "outputs": [
        {
          "output_type": "stream",
          "name": "stdout",
          "text": [
            "[9 5 2 0 2] [10.1  6.1  3.1  1.1  3.1]\n",
            "[[-0.90909091  0.34482759  0.16949153  0.12658228  0.16949153]\n",
            " [-0.19607843 -0.90909091  0.52631579  0.25641026  0.52631579]\n",
            " [-0.12345679 -0.24390244 -0.90909091  1.11111111 -0.90909091]\n",
            " [-0.0990099  -0.16393443 -0.32258065 -0.90909091 -0.32258065]\n",
            " [-0.12345679 -0.24390244 -0.90909091  1.11111111 -0.90909091]]\n",
            "-1.486254927924002e-16\n"
          ]
        }
      ]
    },
    {
      "cell_type": "code",
      "metadata": {
        "id": "2zgZVRyBcnPT"
      },
      "source": [
        "arr1 = [np.int8, np.int16, np.int32, np.int64]\n",
        "for dtype in arr1 :\n",
        "  print(np.iinfo(dtype).min)\n",
        "  print(np.iinfo(dtype).max)\n",
        "arr2 = [np.float16, np.float32, np.float64, np.float128]\n",
        "for dtype in arr2:\n",
        "   print(np.finfo(dtype).min)\n",
        "   print(np.finfo(dtype).max)\n",
        "   print(np.finfo(dtype).eps)"
      ],
      "execution_count": null,
      "outputs": []
    },
    {
      "cell_type": "code",
      "metadata": {
        "id": "pmZ1mYn8elD7"
      },
      "source": [
        "np.set_printoptions(threshold=float(\"inf\"))\n",
        "arr = np.arange(1000)\n",
        "print(arr)\n",
        "# np.set_printoptions(threshold=float(\"inf\"))\n",
        "# Z = np.zeros((40,40))\n",
        "# print(Z)"
      ],
      "execution_count": null,
      "outputs": []
    },
    {
      "cell_type": "code",
      "metadata": {
        "id": "ILmn50WKKg9U"
      },
      "source": [
        "# How to find the closest value (to a given scalar) in a vector\n",
        "arr = np.arange(10)\n",
        "print(arr)\n",
        "x = np.random.uniform(0,10)\n",
        "print(x)\n",
        "print(arr[np.argmin(np.abs(arr-x))])"
      ],
      "execution_count": null,
      "outputs": []
    },
    {
      "cell_type": "code",
      "metadata": {
        "id": "ENifE3cbMCSd"
      },
      "source": [
        "# Create a structured array representing a position (x,y) and a color (r,g,b)\n",
        "a = np.zeros(5,dtype=[('position',[('x', float), ('y', float)]),\n",
        "                                  ('color', [('r', float), ('g', float), ('b', float)])])\n",
        "print(a)"
      ],
      "execution_count": null,
      "outputs": []
    },
    {
      "cell_type": "code",
      "metadata": {
        "id": "jA8sNzusPsug"
      },
      "source": [
        "# Consider a random vector with shape (100,2) representing coordinates, find point by point distances\n",
        "arr = np.random.random((10,2))\n",
        "print(arr)\n",
        "x,y = np.atleast_2d(arr[:,0], arr[:,1])\n",
        "d = np.sqrt( (x-x.T)**2 + (y-y.T)**2)\n",
        "print(d)"
      ],
      "execution_count": null,
      "outputs": []
    },
    {
      "cell_type": "code",
      "metadata": {
        "id": "jYSKfFxUfNtk",
        "colab": {
          "base_uri": "https://localhost:8080/"
        },
        "outputId": "b9572cac-358e-48a4-b193-45f278ca0dea"
      },
      "source": [
        "# How to convert a float (32 bits) array into an integer (32 bits) in place\n",
        "Z = (np.random.rand(10)*100).astype(np.float32)\n",
        "print(Z)\n",
        "Y = Z.view(np.int32)\n",
        "print(Y)\n",
        "Y[:] = Z\n",
        "print(Y)"
      ],
      "execution_count": null,
      "outputs": [
        {
          "output_type": "stream",
          "name": "stdout",
          "text": [
            "[ 1.2806298 61.70064    0.6745638 13.778466  13.773373  61.91341\n",
            " 33.376842  29.068396  65.886765  29.173815 ]\n",
            "[1067707309 1115082101 1059893303 1096578201 1096572860 1115137877\n",
            " 1107657187 1105759251 1115932166 1105814521]\n",
            "[ 1 61  0 13 13 61 33 29 65 29]\n"
          ]
        }
      ]
    },
    {
      "cell_type": "code",
      "metadata": {
        "id": "hazE8_vWtRGq"
      },
      "source": [
        "# How to read the following file\n",
        "from io import StringIO\n",
        "s = \"\"\"1, 2, 3, 4, 5\n",
        "\n",
        "        6,  ,  , 7, 8\n",
        "\n",
        "        ,  , 9,10,11\"\"\"\n",
        "Z = np.genfromtxt(StringIO(s), delimiter=\",\", dtype=np.int)\n",
        "print(Z)"
      ],
      "execution_count": null,
      "outputs": []
    },
    {
      "cell_type": "code",
      "metadata": {
        "id": "axbIaDSAxwjV"
      },
      "source": [
        "# What is the equivalent of enumerate for numpy arrays\n",
        "a = np.array([[1, 2], [3, 4]])\n",
        "for index, x in np.ndenumerate(a):\n",
        "    print(index, x)\n",
        "for index in np.ndindex(a.shape):\n",
        "    print(index, a[index])"
      ],
      "execution_count": null,
      "outputs": []
    },
    {
      "cell_type": "code",
      "metadata": {
        "id": "aNhFUUK96CPM"
      },
      "source": [
        "# Generate a generic 2D Gaussian-like array\n",
        "# (1 / (σ * sqrt(2π))) * exp(-(x - μ)**2 / 2σ**2)\n",
        "X, Y = np.meshgrid(np.linspace(-1,1,5), np.linspace(-1,1,5))\n",
        "D = np.sqrt(X*X+Y*Y)\n",
        "sigma, mu = 1.0, 0.0\n",
        "G = np.exp(-( (D-mu)**2 / ( 2.0 * sigma**2 ) ) )\n",
        "print(G)"
      ],
      "execution_count": null,
      "outputs": []
    },
    {
      "cell_type": "code",
      "metadata": {
        "id": "YKObaeur9qUO"
      },
      "source": [
        "# How to randomly place p elements in a 2D array\n",
        "arr = np.zeros((5,5))\n",
        "index = np.random.choice(range(5*5), 5)\n",
        "np.put(arr,index, 3)\n",
        "print(arr)"
      ],
      "execution_count": null,
      "outputs": []
    },
    {
      "cell_type": "code",
      "metadata": {
        "id": "pct6RN5S_fIH"
      },
      "source": [
        "# Subtract the mean of each row of a matrix\n",
        "a = np.random.randn(3,3)\n",
        "print(a)\n",
        "a = a - a.mean(axis=1, keepdims=True)\n",
        "print(a)"
      ],
      "execution_count": null,
      "outputs": []
    },
    {
      "cell_type": "code",
      "metadata": {
        "id": "RjWrp8voBYcr"
      },
      "source": [
        "# How to sort an array by the nth column\n",
        "arr = np.random.randint(0,10,(3,3))\n",
        "print(arr)\n",
        "index = np.argsort(arr[:,0])\n",
        "print(index)\n",
        "print(arr[index])"
      ],
      "execution_count": null,
      "outputs": []
    },
    {
      "cell_type": "code",
      "metadata": {
        "id": "mEIzzonhFicR"
      },
      "source": [
        "# How to tell if a given 2D array has null columns\n",
        "arr = np.array([[0,1,2],[0,2,0],[0,3,4]])\n",
        "print(arr)\n",
        "print(np.any(arr, axis=0))\n",
        "# print((~Z.any(axis=0)).any())\n"
      ],
      "execution_count": null,
      "outputs": []
    },
    {
      "cell_type": "code",
      "metadata": {
        "id": "dkfS0RNSH1Wi"
      },
      "source": [
        "# Find the nearest value from a given value in an array \n",
        "arr = np.arange(10)\n",
        "print(arr)\n",
        "x = np.random.uniform(0,10)\n",
        "print(x)\n",
        "m = arr.flat[np.abs(arr - x).argmin()]\n",
        "print(m)"
      ],
      "execution_count": null,
      "outputs": []
    },
    {
      "cell_type": "code",
      "metadata": {
        "id": "l9bYMAaoILB7"
      },
      "source": [
        "# Considering two arrays with shape (1,3) and (3,1), how to compute their sum using an iterator\n",
        "a = np.random.randint(0, 10, (1,3))\n",
        "b = np.random.randint(0, 10, (3,1))\n",
        "print(a)\n",
        "print(b)\n",
        "sum = []\n",
        "for i in np.nditer(a.T):\n",
        "    x = []\n",
        "    for j in np.nditer(b):\n",
        "        x.append(i + j)\n",
        "    sum.append(x)   \n",
        "print(np.array(sum))"
      ],
      "execution_count": null,
      "outputs": []
    },
    {
      "cell_type": "code",
      "metadata": {
        "id": "ap5gsOBzrJEh",
        "colab": {
          "base_uri": "https://localhost:8080/"
        },
        "outputId": "9fa095a4-a214-430e-bb9f-be6ee9fc2cb4"
      },
      "source": [
        "# Create an array class that has a name attribute\n",
        "\n",
        "class NamedArray(np.ndarray):\n",
        "   def __new__(cls, array, name=\"No Name\"):\n",
        "    obj = np.asarray(array).view(cls)\n",
        "    obj.name = name\n",
        "    return obj\n",
        "\n",
        "Z = NamedArray(np.arange(10), \"range_10\")\n",
        "print (Z.name)"
      ],
      "execution_count": null,
      "outputs": [
        {
          "output_type": "stream",
          "name": "stdout",
          "text": [
            "range_10\n"
          ]
        }
      ]
    },
    {
      "cell_type": "code",
      "metadata": {
        "colab": {
          "base_uri": "https://localhost:8080/"
        },
        "id": "uFyoQADnyk6L",
        "outputId": "da39de14-8e83-49bc-e415-a96e8323438f"
      },
      "source": [
        "Z  = np.arange(10)\n",
        "I = np.random.randint(0,len(Z),10)\n",
        "print (I)\n",
        "np.add.at(Z, I, 1)\n",
        "print(Z)"
      ],
      "execution_count": null,
      "outputs": [
        {
          "output_type": "stream",
          "name": "stdout",
          "text": [
            "[5 2 6 1 1 8 1 1 5 3]\n",
            "[0 5 3 4 4 7 7 7 9 9]\n"
          ]
        }
      ]
    },
    {
      "cell_type": "code",
      "metadata": {
        "colab": {
          "base_uri": "https://localhost:8080/"
        },
        "id": "HyBZbdbC1EEI",
        "outputId": "8c901397-9a43-4e28-bac1-ae570a2d2c93"
      },
      "source": [
        "# How to accumulate elements of a vector (X) to an array (F) based on an index list (I)\n",
        "X = [1,2,3,4,5,6]\n",
        "I = [1,3,9,3,4,1]\n",
        "# F= 0 1 2 3 ....9\n",
        "# 0=0 1=1+6\n",
        "F = np.bincount(I,X) \n",
        "print(F)"
      ],
      "execution_count": null,
      "outputs": [
        {
          "output_type": "stream",
          "name": "stdout",
          "text": [
            "[0. 7. 0. 6. 5. 0. 0. 0. 0. 3.]\n"
          ]
        }
      ]
    },
    {
      "cell_type": "code",
      "metadata": {
        "id": "RREGGXjq3so7"
      },
      "source": [
        "#  Considering a (w,h,3) image of (dtype=ubyte), compute the number of unique colors\n",
        "w, h = 256, 256\n",
        "I = np.random.randint(0,4,(h,w,3), dtype=np.uint32)\n",
        "new = np.dot(I.astype(np.uint32), [1, 256, 256*256])\n",
        "print( len(np.unique(new)))"
      ],
      "execution_count": null,
      "outputs": []
    },
    {
      "cell_type": "code",
      "metadata": {
        "id": "6wTV25tk6vbt"
      },
      "source": [
        "# Considering a four dimensions array, how to get sum over the last two axis at once\n",
        "arr = np.random.randint(0,10,(2,2,2,2))\n",
        "print(arr)\n",
        "print(arr.sum(axis=(-2,-1)))"
      ],
      "execution_count": null,
      "outputs": []
    },
    {
      "cell_type": "code",
      "metadata": {
        "id": "_UmvNEbfAUY8"
      },
      "source": [
        "# Considering a one-dimensional vector D, how to compute means of subsets of D using a vector S of same size describing subset indices\n",
        "\n",
        "D = np.random.uniform(0,1,100)\n",
        "S = np.random.randint(0,10,100)\n",
        "D_sums = np.bincount(S, weights=D)\n",
        "D_counts = np.bincount(S)\n",
        "D_means = D_sums / D_counts\n",
        "print(D_means)\n"
      ],
      "execution_count": null,
      "outputs": []
    },
    {
      "cell_type": "code",
      "metadata": {
        "colab": {
          "base_uri": "https://localhost:8080/"
        },
        "id": "NxaVq2W3Bx_7",
        "outputId": "26718600-00a8-4531-b1b9-fd10b689cf5e"
      },
      "source": [
        "a = np.arange(15).reshape(3, 5)\n",
        "b = np.arange(15).reshape(5, 3)\n",
        "print(np.diag(np.dot(a,b)))"
      ],
      "execution_count": null,
      "outputs": [
        {
          "output_type": "stream",
          "name": "stdout",
          "text": [
            "[ 90 275 510]\n"
          ]
        }
      ]
    },
    {
      "cell_type": "code",
      "metadata": {
        "colab": {
          "base_uri": "https://localhost:8080/"
        },
        "id": "-ToEW7tRC7W4",
        "outputId": "c8b1364a-e0ea-4b21-b44b-df7c0f480d89"
      },
      "source": [
        "Z = np.array([1,2,3,4,5])\n",
        "Z0 = np.zeros(len(Z) + (len(Z)-1)*3)\n",
        "Z0[::4] = Z\n",
        "print(Z0)"
      ],
      "execution_count": null,
      "outputs": [
        {
          "output_type": "stream",
          "name": "stdout",
          "text": [
            "[1. 0. 0. 0. 2. 0. 0. 0. 3. 0. 0. 0. 4. 0. 0. 0. 5.]\n"
          ]
        }
      ]
    },
    {
      "cell_type": "code",
      "metadata": {
        "colab": {
          "base_uri": "https://localhost:8080/"
        },
        "id": "2hitOlYFESGH",
        "outputId": "f4235f94-6ce3-441a-a568-4dc87b8a9aaa"
      },
      "source": [
        "A = np.arange(25).reshape(5,5)\n",
        "print (A)\n",
        "A[[0,1]] = A[[1,0]]\n",
        "# A[[0]], A[[1]] = A[[1]], A[[0]]\n",
        "print(A)"
      ],
      "execution_count": null,
      "outputs": [
        {
          "output_type": "stream",
          "name": "stdout",
          "text": [
            "[[ 0  1  2  3  4]\n",
            " [ 5  6  7  8  9]\n",
            " [10 11 12 13 14]\n",
            " [15 16 17 18 19]\n",
            " [20 21 22 23 24]]\n",
            "[[ 5  6  7  8  9]\n",
            " [ 0  1  2  3  4]\n",
            " [10 11 12 13 14]\n",
            " [15 16 17 18 19]\n",
            " [20 21 22 23 24]]\n"
          ]
        }
      ]
    },
    {
      "cell_type": "code",
      "metadata": {
        "id": "cJUQcMBaFxU_"
      },
      "source": [
        "# faces = np.random.randint(0,100,(10,3))\n",
        "# F = np.roll(faces.repeat(2,axis=1),-1,axis=1) \n",
        "# # axis = 1 la dich cot, 0 la dich hang\n",
        "# print (F)\n",
        "# F = F.reshape(len(F)*3,2)\n",
        "# F = np.sort(F,axis=1)\n",
        "# G = F.view( dtype=[('p0',F.dtype),('p1',F.dtype)] )\n",
        "# G = np.unique(G)\n",
        "# print(G)"
      ],
      "execution_count": null,
      "outputs": []
    },
    {
      "cell_type": "code",
      "metadata": {
        "id": "8g2gFmC0Hvva"
      },
      "source": [
        "# Given a sorted array C that corresponds to a bincount, how to produce an array A such that np.bincount(A) == C\n",
        "C = np.bincount([1,1,2,3,4,4,6])\n",
        "print (C)\n",
        "print (np.arange(len(C)))\n",
        "A = np.repeat(np.arange(len(C)), C)\n",
        "print(A)"
      ],
      "execution_count": null,
      "outputs": []
    },
    {
      "cell_type": "code",
      "metadata": {
        "id": "Iy80WnWwI61U"
      },
      "source": [
        "# 75.How to compute averages using a sliding window over an array\n",
        "def moving_average(a, n=3) :\n",
        "    ret = np.cumsum(a, dtype=float)\n",
        "    print (ret)\n",
        "    print (ret[n:])\n",
        "    print (ret[:-n])\n",
        "    ret[n:] = ret[n:] - ret[:-n]\n",
        "    print (ret)\n",
        "    return ret // n\n",
        "Z = np.arange(10)\n",
        "print(Z)\n",
        "print(moving_average(Z, n=3))"
      ],
      "execution_count": null,
      "outputs": []
    },
    {
      "cell_type": "code",
      "metadata": {
        "id": "v1tMDy5jPFP1"
      },
      "source": [
        "# Consider a one-dimensional array Z, build a two-dimensional array whose first row is (Z[0],Z[1],Z[2]) and each subsequent row is shifted by 1 (last row should be (Z[-3],Z[-2],Z[-1])\n",
        "def rolling(a, n):\n",
        "    return np.lib.stride_tricks.as_strided(a, (a.size - n + 1, n), (a.itemsize, a.itemsize))\n",
        "rolling(np.arange(10), 4)\n"
      ],
      "execution_count": null,
      "outputs": []
    },
    {
      "cell_type": "code",
      "metadata": {
        "id": "APAk1i0nY5PF"
      },
      "source": [
        "# How to negate a boolean, or to change the sign of a float inplace\n",
        "a = np.array(np.arange(2) % 2 == 1)\n",
        "print(a, np.logical_not(a))\n",
        "b = np.arange(10).astype(float)\n",
        "print(b, np.negative(b))"
      ],
      "execution_count": null,
      "outputs": []
    },
    {
      "cell_type": "code",
      "metadata": {
        "id": "aTU7hyekZs_i"
      },
      "source": [
        "#  Consider 2 sets of points P0,P1 describing lines (2d) and a point p, how to compute distance from p to each line i (P0[i],P1[i])\n",
        "P0 = np.random.rand(1, 2) * 10\n",
        "P1 = np.random.rand(1, 2) * 10\n",
        "C = np.array([1, 2])\n",
        "print(P0, P1)\n",
        "print(np.linalg.norm(P0 - P1, axis=1))\n",
        "print(np.abs(np.cross(P0 - C, P1 - C, axis=1)))\n",
        "np.abs(np.cross(P0 - C, P1 - C, axis=1)) / np.linalg.norm(P0 - P1, axis=1)"
      ],
      "execution_count": null,
      "outputs": []
    },
    {
      "cell_type": "code",
      "metadata": {
        "colab": {
          "base_uri": "https://localhost:8080/"
        },
        "id": "BumQlOI9d2tt",
        "outputId": "2ec190cd-eab3-4c0b-dc34-41b68f660de2"
      },
      "source": [
        "# Consider 2 sets of points P0,P1 describing lines (2d) and a set of points P, how to compute distance from each point j (P[j]) to each line i (P0[i],P1[i])\n",
        "P0 = np.random.rand(5, 2) * 10\n",
        "P1 = np.random.rand(5, 2) * 10\n",
        "P = np.random.rand(5, 2) * 10\n",
        "# cross la tich vo huong\n",
        "# linalg.norm \n",
        "for p in P:\n",
        "    print (\"Debug \" , np.linalg.norm(P0 - P1, axis=1))\n",
        "    print(np.abs(np.cross(P0 - p, P1 - p, axis=1)) / np.linalg.norm(P0 - P1, axis=1))"
      ],
      "execution_count": 86,
      "outputs": [
        {
          "output_type": "stream",
          "name": "stdout",
          "text": [
            "Debug  [6.28580065 5.09302473 3.90631885 4.82516737 1.27472836]\n",
            "[8.20174795 3.37180382 7.65763668 5.6380089  2.14575428]\n",
            "Debug  [6.28580065 5.09302473 3.90631885 4.82516737 1.27472836]\n",
            "[1.34501093 7.50211858 1.04282968 4.89870367 5.21665126]\n",
            "Debug  [6.28580065 5.09302473 3.90631885 4.82516737 1.27472836]\n",
            "[1.40617586 1.52866764 0.61154524 0.39503629 5.00766073]\n",
            "Debug  [6.28580065 5.09302473 3.90631885 4.82516737 1.27472836]\n",
            "[0.29982981 4.14127213 0.74216499 2.62381292 5.8724341 ]\n",
            "Debug  [6.28580065 5.09302473 3.90631885 4.82516737 1.27472836]\n",
            "[4.23987363 2.22805823 4.37351449 0.70359067 0.17733915]\n"
          ]
        }
      ]
    },
    {
      "cell_type": "code",
      "metadata": {
        "id": "Ig0uqiYLedlc"
      },
      "source": [
        "# 80.Consider an arbitrary array, write a function that extract a subpart with a fixed shape and centered on a given element (pad with a fill value when necessary)\n"
      ],
      "execution_count": null,
      "outputs": []
    },
    {
      "cell_type": "code",
      "metadata": {
        "id": "FL_wwPAph6KS"
      },
      "source": [
        "# Consider an array Z = [1,2,3,4,5,6,7,8,9,10,11,12,13,14], how to generate an array R = [[1,2,3,4], [2,3,4,5], [3,4,5,6], ..., [11,12,13,14]]\n",
        "A = np.arange(1, 15)\n",
        "print(np.lib.stride_tricks.as_strided(A, (A.size - 3, 4), (A.itemsize, A.itemsize)))"
      ],
      "execution_count": null,
      "outputs": []
    },
    {
      "cell_type": "code",
      "metadata": {
        "colab": {
          "base_uri": "https://localhost:8080/"
        },
        "id": "TFIwWfFhi3Ip",
        "outputId": "686e3fcd-1199-4b30-cc5d-5ea0d5b109e1"
      },
      "source": [
        "# 82 Compute a matrix rank\n",
        "\n",
        "Z = np.random.uniform(0,1,(3,3))\n",
        "print(Z)\n",
        "U, S, V = np.linalg.svd(Z)\n",
        "print('u = ',U,'\\ns =', S,'\\nv = ', V)\n",
        "rank = np.sum(S > 1e-10)\n",
        "print(rank)"
      ],
      "execution_count": null,
      "outputs": [
        {
          "output_type": "stream",
          "name": "stdout",
          "text": [
            "[[0.82908985 0.06031462 0.45206248]\n",
            " [0.48131262 0.97442229 0.07349825]\n",
            " [0.14359868 0.84922413 0.56118997]]\n",
            "u =  [[-0.40699029  0.91201482  0.05087116]\n",
            " [-0.67101943 -0.26072989 -0.69408418]\n",
            " [-0.61975143 -0.31662106  0.7180942 ]] \n",
            "s = [1.53316853 0.77962645 0.4245753 ] \n",
            "v =  [[-0.48878979 -0.78576594 -0.37902035]\n",
            " [ 0.75059444 -0.60020467  0.27633738]\n",
            " [-0.44462628 -0.14941968  0.88316546]]\n",
            "3\n"
          ]
        }
      ]
    },
    {
      "cell_type": "code",
      "metadata": {
        "id": "dLrHEVQBkmHt"
      },
      "source": [
        "#  How to find the most frequent value in an array\n",
        "a = np.random.randint(0,10,10)\n",
        "print(a)\n",
        "b = np.bincount(a)\n",
        "print(b)\n",
        "print(b.argmax())"
      ],
      "execution_count": null,
      "outputs": []
    },
    {
      "cell_type": "code",
      "metadata": {
        "id": "gh91YoT_lCZD"
      },
      "source": [
        "# Extract all the contiguous 3x3 blocks from a random 10x10 matrix\n",
        "Z = np.random.randint(0,5,(10,10))\n",
        "print('Z=', Z)\n",
        "i = 1 + (Z.shape[0]-3)\n",
        "j = 1 + (Z.shape[1]-3)\n",
        "C = np.lib.stride_tricks.as_strided(Z, shape=(i, j, 3, 3), strides=Z.strides + Z.strides)\n",
        "print(C)"
      ],
      "execution_count": null,
      "outputs": []
    },
    {
      "cell_type": "code",
      "metadata": {
        "id": "eqYWX_DgmJjO"
      },
      "source": [
        "# 85. Create a 2D array subclass such that Z[i,j] == Z[j,i]\n",
        "class Symetric(np.ndarray):\n",
        "    def __setitem__(self, index, value):\n",
        "        i,j = index\n",
        "        super(Symetric, self).__setitem__((i,j), value)\n",
        "        super(Symetric, self).__setitem__((j,i), value)\n",
        "\n",
        "def symetric(Z):\n",
        "    return np.asarray(Z + Z.T - np.diag(Z.diagonal())).view(Symetric)\n",
        "\n",
        "S = symetric(np.random.randint(0,10,(5,5)))\n",
        "print(S)\n"
      ],
      "execution_count": null,
      "outputs": []
    },
    {
      "cell_type": "code",
      "metadata": {
        "id": "RU04mUJZnPPa"
      },
      "source": [
        "# Consider a set of p matrices wich shape (n,n) and a set of p vectors with shape (n,1). How to compute the sum of of the p matrix products at once? (result has shape (n,1))\n",
        "p, n = 3, 5\n",
        "M = np.ones((p,n,n))\n",
        "print(M)\n",
        "V = np.ones((p,n,1))\n",
        "print(V)\n",
        "S = np.tensordot(M, V, ((0, 2), (0, 1)))\n",
        "print(S)\n"
      ],
      "execution_count": null,
      "outputs": []
    },
    {
      "cell_type": "code",
      "metadata": {
        "id": "czsgNVVRrHUC"
      },
      "source": [
        "# Consider a 16x16 array, how to get the block-sum (block size is 4x4)\n",
        "a = np.random.randint(0, 10, (16, 16))\n",
        "print(a)\n",
        "shape = (4,4)\n",
        "\n",
        "sum_by_column = np.add.reduceat(a, np.arange(0, a.shape[0], shape[0]), axis=0)\n",
        "s = np.add.reduceat( sum_by_column,\n",
        "np.arange(0, a.shape[1], shape[1]), axis=1)\n",
        "print(s)"
      ],
      "execution_count": null,
      "outputs": []
    },
    {
      "cell_type": "code",
      "metadata": {
        "id": "k3xwWUNvsVNb"
      },
      "source": [
        "# How to implement the Game of Life using numpy arrays"
      ],
      "execution_count": null,
      "outputs": []
    },
    {
      "cell_type": "code",
      "metadata": {
        "id": "4OAzNQvps6Ng"
      },
      "source": [
        "#  How to get the n largest values of an array \n",
        "Z = np.arange(1000)\n",
        "np.random.shuffle(Z)\n",
        "n = 5\n",
        "print(Z[np.argsort(Z)[-n:]])"
      ],
      "execution_count": null,
      "outputs": []
    },
    {
      "cell_type": "code",
      "metadata": {
        "id": "pULdx-VQtm3N"
      },
      "source": [
        "# Given an arbitrary number of vectors, build the cartesian product (every combinations of every item)\n",
        "def cartesian(arrays):\n",
        "    arrays = [np.asarray(a) for a in arrays]\n",
        "    shape = (len(x) for x in arrays)\n",
        "    ix = np.indices(shape, dtype=int)\n",
        "    ix = ix.reshape(len(arrays), -1).T\n",
        "    for n, arr in enumerate(arrays):\n",
        "        ix[:, n] = arrays[n][ix[:, n]]\n",
        "    return ix\n",
        "print (cartesian(([1, 2, 3], [4, 5], [6, 7])))\n"
      ],
      "execution_count": null,
      "outputs": []
    },
    {
      "cell_type": "code",
      "metadata": {
        "id": "PgLlom_ut3nm"
      },
      "source": [
        "# How to create a record array from a regular array\n",
        "x1=np.array([1, 2, 3, 4])\n",
        "x2=np.array(['a','dd','xyz','12'])\n",
        "x3=np.array([1.1, 2, 3, 4])\n",
        "r = np.core.records.fromarrays([x1,x2,x3],names='a,b,c')\n",
        "print(r[1])\n",
        "print(r)"
      ],
      "execution_count": null,
      "outputs": []
    },
    {
      "cell_type": "code",
      "metadata": {
        "id": "7O_Po1M90gPA"
      },
      "source": [
        "# Consider a large vector Z, compute Z to the power of 3 using 3 different methods \n",
        "Z = np.random.choice(100,10000)\n",
        "print(Z)\n",
        "print(np.power(Z,3))\n",
        "print(Z**3)\n",
        "print(Z*Z*Z)\n",
        "print(np.einsum('i,i,i->i',Z,Z,Z))"
      ],
      "execution_count": null,
      "outputs": []
    },
    {
      "cell_type": "code",
      "metadata": {
        "id": "pQZKy1UZ0_p-"
      },
      "source": [
        "# Consider two arrays A and B of shape (8,3) and (2,2). How to find rows of A that contain elements of each row of B regardless of the order of the elements in B\n",
        "\n",
        "# Don't understand ??? fuck \n",
        "\n",
        "# A = np.random.randint(0,5,(8,3))\n",
        "# B = np.random.randint(0,5,(2,2))\n",
        "\n",
        "# C = (A[..., np.newaxis, np.newaxis] == B)\n",
        "# rows = np.where(C.any((3,1)).all(1))[0]\n",
        "# print(rows)\n"
      ],
      "execution_count": null,
      "outputs": []
    },
    {
      "cell_type": "code",
      "metadata": {
        "colab": {
          "base_uri": "https://localhost:8080/"
        },
        "id": "zAzyiyNvg9CD",
        "outputId": "e52f1c41-9ef9-40be-c6c9-d1c2ab8e37e9"
      },
      "source": [
        "\n",
        "Z = np.random.randint(0,5,(10,3))\n",
        "print(Z)\n",
        "U = Z[Z.max(axis=1) != Z.min(axis=1),:]\n",
        "print(U)"
      ],
      "execution_count": null,
      "outputs": [
        {
          "output_type": "stream",
          "name": "stdout",
          "text": [
            "[[3 2 4]\n",
            " [3 3 0]\n",
            " [3 2 1]\n",
            " [1 2 1]\n",
            " [1 2 3]\n",
            " [3 1 4]\n",
            " [3 4 3]\n",
            " [2 0 0]\n",
            " [0 3 4]\n",
            " [1 1 3]]\n",
            "[[3 3 0]\n",
            " [1 2 1]]\n"
          ]
        }
      ]
    },
    {
      "cell_type": "code",
      "metadata": {
        "colab": {
          "base_uri": "https://localhost:8080/"
        },
        "id": "2DIeCEfVh9f8",
        "outputId": "562eb0dd-e6cd-4faf-c2f2-7d5a2546c104"
      },
      "source": [
        "\n",
        "I = np.array([0, 6, 2, 3, 15, 16, 32, 64, 128])\n",
        "# shape(-1,1), -1 auto fit vs kich thuoc arr\n",
        "B = ((I.reshape(-1,1) & (2**np.arange(8))) != 0).astype(int)\n",
        "print (B)\n",
        "print(B[:,::-1])"
      ],
      "execution_count": null,
      "outputs": [
        {
          "output_type": "stream",
          "name": "stdout",
          "text": [
            "[[0 0 0 0 0 0 0 0]\n",
            " [0 1 1 0 0 0 0 0]\n",
            " [0 1 0 0 0 0 0 0]\n",
            " [1 1 0 0 0 0 0 0]\n",
            " [1 1 1 1 0 0 0 0]\n",
            " [0 0 0 0 1 0 0 0]\n",
            " [0 0 0 0 0 1 0 0]\n",
            " [0 0 0 0 0 0 1 0]\n",
            " [0 0 0 0 0 0 0 1]]\n",
            "[[0 0 0 0 0 0 0 0]\n",
            " [0 0 0 0 0 1 1 0]\n",
            " [0 0 0 0 0 0 1 0]\n",
            " [0 0 0 0 0 0 1 1]\n",
            " [0 0 0 0 1 1 1 1]\n",
            " [0 0 0 1 0 0 0 0]\n",
            " [0 0 1 0 0 0 0 0]\n",
            " [0 1 0 0 0 0 0 0]\n",
            " [1 0 0 0 0 0 0 0]]\n"
          ]
        }
      ]
    }
  ]
}