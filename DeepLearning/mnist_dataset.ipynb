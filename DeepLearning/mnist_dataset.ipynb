{
  "nbformat": 4,
  "nbformat_minor": 0,
  "metadata": {
    "colab": {
      "name": "mnist-dataset.ipynb",
      "provenance": [],
      "authorship_tag": "ABX9TyNMed++dDy3atXk6/3HAJor",
      "include_colab_link": true
    },
    "kernelspec": {
      "name": "python3",
      "display_name": "Python 3"
    },
    "language_info": {
      "name": "python"
    },
    "accelerator": "GPU"
  },
  "cells": [
    {
      "cell_type": "markdown",
      "metadata": {
        "id": "view-in-github",
        "colab_type": "text"
      },
      "source": [
        "<a href=\"https://colab.research.google.com/github/tranvangaohd1994/STP_2021_2/blob/LinhDK/DeepLearning/mnist_dataset.ipynb\" target=\"_parent\"><img src=\"https://colab.research.google.com/assets/colab-badge.svg\" alt=\"Open In Colab\"/></a>"
      ]
    },
    {
      "cell_type": "code",
      "metadata": {
        "id": "mR7w2qKnpFGa"
      },
      "source": [
        "# 1. Thêm các thư viện cần thiết\n",
        "import numpy as np\n",
        "import matplotlib.pyplot as plt\n",
        "from keras.models import Sequential\n",
        "from keras.layers import Dense, Dropout, Activation, Flatten\n",
        "from keras.layers import Conv2D, MaxPooling2D\n",
        "from keras.utils import np_utils\n",
        "from keras.datasets import mnist"
      ],
      "execution_count": null,
      "outputs": []
    },
    {
      "cell_type": "code",
      "metadata": {
        "colab": {
          "base_uri": "https://localhost:8080/"
        },
        "id": "as4fAWKtsAF9",
        "outputId": "4b15ab8a-e420-47ea-97e8-e8c77c86571c"
      },
      "source": [
        "# 2. Load dữ liệu MNIST\n",
        "(X_train, y_train), (X_test, y_test) = mnist.load_data()\n",
        "X_val, y_val = X_train[50000:60000,:], y_train[50000:60000]\n",
        "X_train, y_train = X_train[:50000,:], y_train[:50000]\n",
        "print(X_train.shape)"
      ],
      "execution_count": null,
      "outputs": [
        {
          "output_type": "stream",
          "name": "stdout",
          "text": [
            "(50000, 28, 28)\n"
          ]
        }
      ]
    },
    {
      "cell_type": "code",
      "metadata": {
        "id": "k0i8xSNWwSkY"
      },
      "source": [
        "# tensor 4 chiều (N, W, H, D), trong bài này là ảnh xám nên W = H = 28, D = 1, N là số lượng ảnh cho mỗi lần training\n",
        "# 3. Reshape lại dữ liệu cho đúng kích thước mà keras yêu cầu W, H, D\n",
        "X_train = X_train.reshape(X_train.shape[0], 28, 28, 1)\n",
        "X_val = X_val.reshape(X_val.shape[0], 28, 28, 1)\n",
        "X_test = X_test.reshape(X_test.shape[0], 28, 28, 1)"
      ],
      "execution_count": null,
      "outputs": []
    },
    {
      "cell_type": "code",
      "metadata": {
        "colab": {
          "base_uri": "https://localhost:8080/"
        },
        "id": "yOn0GWv6xoyI",
        "outputId": "afe56927-f2ba-4795-b511-7d31e08085a8"
      },
      "source": [
        "# chuyển đổi 5 thành vector [0. 0. 0. 0. 0. 1. 0. 0. 0. 0.] để classify bằng hàm softmax \n",
        "# 4. One hot encoding label (Y)\n",
        "Y_train = np_utils.to_categorical(y_train, 10)\n",
        "Y_val = np_utils.to_categorical(y_val, 10)\n",
        "Y_test = np_utils.to_categorical(y_test, 10)\n",
        "print('Dữ liệu y ban đầu ', y_train[0])\n",
        "print('Dữ liệu y sau one-hot encoding ',Y_train[0])"
      ],
      "execution_count": null,
      "outputs": [
        {
          "output_type": "stream",
          "name": "stdout",
          "text": [
            "Dữ liệu y ban đầu  5\n",
            "Dữ liệu y sau one-hot encoding  [0. 0. 0. 0. 0. 1. 0. 0. 0. 0.]\n"
          ]
        }
      ]
    },
    {
      "cell_type": "code",
      "metadata": {
        "id": "f4Hgtz5B14zB"
      },
      "source": [
        "# 5. Định nghĩa model\n",
        "model = Sequential()\n",
        " \n",
        "# Thêm Convolutional layer với 32 kernel, kích thước kernel 3*3\n",
        "# dùng hàm sigmoid làm activation và chỉ rõ input_shape cho layer đầu tiên\n",
        "model.add(Conv2D(32, (3, 3), activation='sigmoid', input_shape=(28,28,1)))\n",
        "\n",
        "# Thêm Convolutional layer\n",
        "model.add(Conv2D(32, (3, 3), activation='sigmoid'))\n",
        "\n",
        "# Thêm Max pooling layer\n",
        "model.add(MaxPooling2D(pool_size=(2,2)))\n",
        "\n",
        "# Flatten layer chuyển từ tensor sang vector\n",
        "model.add(Flatten())\n",
        "\n",
        "# Thêm Fully Connected layer với 128 nodes và dùng hàm sigmoid\n",
        "model.add(Dense(128, activation='sigmoid'))\n",
        "\n",
        "# Output layer với 10 node và dùng softmax function để chuyển sang xác xuất.\n",
        "model.add(Dense(10, activation='softmax'))"
      ],
      "execution_count": null,
      "outputs": []
    },
    {
      "cell_type": "code",
      "metadata": {
        "id": "DdVguos12BrD"
      },
      "source": [
        "# 6. Compile model, chỉ rõ hàm loss_function nào được sử dụng, phương thức \n",
        "# đùng để tối ưu hàm loss function.\n",
        "model.compile(loss='categorical_crossentropy',\n",
        "              optimizer='adam',\n",
        "              metrics=['accuracy'])"
      ],
      "execution_count": null,
      "outputs": []
    },
    {
      "cell_type": "code",
      "metadata": {
        "colab": {
          "base_uri": "https://localhost:8080/"
        },
        "id": "MHfTxiBL2MpG",
        "outputId": "8425fcef-7772-4118-c085-746f5a8fe45e"
      },
      "source": [
        "# 7. Thực hiện train model với data\n",
        "H = model.fit(X_train, Y_train, validation_data=(X_val, Y_val),\n",
        "          batch_size=32, epochs=10, verbose=1)"
      ],
      "execution_count": null,
      "outputs": [
        {
          "output_type": "stream",
          "name": "stdout",
          "text": [
            "Epoch 1/10\n",
            "1563/1563 [==============================] - 45s 8ms/step - loss: 0.3064 - accuracy: 0.9176 - val_loss: 0.0727 - val_accuracy: 0.9808\n",
            "Epoch 2/10\n",
            "1563/1563 [==============================] - 13s 8ms/step - loss: 0.0587 - accuracy: 0.9828 - val_loss: 0.0526 - val_accuracy: 0.9855\n",
            "Epoch 3/10\n",
            "1563/1563 [==============================] - 13s 8ms/step - loss: 0.0368 - accuracy: 0.9896 - val_loss: 0.0468 - val_accuracy: 0.9873\n",
            "Epoch 4/10\n",
            "1563/1563 [==============================] - 13s 8ms/step - loss: 0.0250 - accuracy: 0.9924 - val_loss: 0.0410 - val_accuracy: 0.9880\n",
            "Epoch 5/10\n",
            "1563/1563 [==============================] - 13s 8ms/step - loss: 0.0167 - accuracy: 0.9954 - val_loss: 0.0389 - val_accuracy: 0.9885\n",
            "Epoch 6/10\n",
            "1563/1563 [==============================] - 13s 8ms/step - loss: 0.0112 - accuracy: 0.9971 - val_loss: 0.0402 - val_accuracy: 0.9880\n",
            "Epoch 7/10\n",
            "1563/1563 [==============================] - 13s 8ms/step - loss: 0.0079 - accuracy: 0.9981 - val_loss: 0.0404 - val_accuracy: 0.9887\n",
            "Epoch 8/10\n",
            "1563/1563 [==============================] - 13s 8ms/step - loss: 0.0059 - accuracy: 0.9985 - val_loss: 0.0461 - val_accuracy: 0.9872\n",
            "Epoch 9/10\n",
            "1563/1563 [==============================] - 13s 8ms/step - loss: 0.0033 - accuracy: 0.9995 - val_loss: 0.0458 - val_accuracy: 0.9877\n",
            "Epoch 10/10\n",
            "1563/1563 [==============================] - 13s 8ms/step - loss: 0.0041 - accuracy: 0.9989 - val_loss: 0.0534 - val_accuracy: 0.9865\n"
          ]
        }
      ]
    },
    {
      "cell_type": "code",
      "metadata": {
        "colab": {
          "base_uri": "https://localhost:8080/",
          "height": 312
        },
        "id": "RwUg0kEU2ztE",
        "outputId": "637b2c55-b456-481d-de2e-cb6f98a2bd24"
      },
      "source": [
        "# 8. Vẽ đồ thị loss, accuracy của traning set và validation set\n",
        "fig = plt.figure()\n",
        "numOfEpoch = 10\n",
        "plt.plot(np.arange(0, numOfEpoch), H.history['loss'], label='training loss')\n",
        "plt.plot(np.arange(0, numOfEpoch), H.history['val_loss'], label='validation loss')\n",
        "plt.plot(np.arange(0, numOfEpoch), H.history['accuracy'], label='accuracy')\n",
        "plt.plot(np.arange(0, numOfEpoch), H.history['val_accuracy'], label='validation accuracy')\n",
        "plt.title('Accuracy and Loss')\n",
        "plt.xlabel('Epoch')\n",
        "plt.ylabel('Loss|Accuracy')\n",
        "plt.legend()"
      ],
      "execution_count": null,
      "outputs": [
        {
          "output_type": "execute_result",
          "data": {
            "text/plain": [
              "<matplotlib.legend.Legend at 0x7f33e53bc1d0>"
            ]
          },
          "metadata": {},
          "execution_count": 15
        },
        {
          "output_type": "display_data",
          "data": {
            "image/png": "[encoded data removed]",
            "text/plain": [
              "<Figure size 432x288 with 1 Axes>"
            ]
          },
          "metadata": {
            "needs_background": "light"
          }
        }
      ]
    },
    {
      "cell_type": "code",
      "metadata": {
        "colab": {
          "base_uri": "https://localhost:8080/"
        },
        "id": "bI9C0d1r2-Kf",
        "outputId": "12309994-d42a-4398-a4d9-ea77c5ed3a4c"
      },
      "source": [
        "# 9. Đánh giá model với dữ liệu test set\n",
        "score = model.evaluate(X_test, Y_test, verbose=0)\n",
        "print(score)"
      ],
      "execution_count": null,
      "outputs": [
        {
          "output_type": "stream",
          "name": "stdout",
          "text": [
            "[0.040704190731048584, 0.9894999861717224]\n"
          ]
        }
      ]
    },
    {
      "cell_type": "code",
      "metadata": {
        "colab": {
          "base_uri": "https://localhost:8080/",
          "height": 282
        },
        "id": "VKNkt_xp3CGI",
        "outputId": "27026210-cea4-4d40-94ce-7fe97e855158"
      },
      "source": [
        "\n",
        "# 10. Dự đoán ảnh\n",
        "\n",
        "plt.imshow(X_test[0].reshape(28,28), cmap='gray')\n",
        "\n",
        "y_predict = model.predict(X_test[0].reshape(1,28,28,1))\n",
        "print('Giá trị dự đoán: ', np.argmax(y_predict))"
      ],
      "execution_count": null,
      "outputs": [
        {
          "output_type": "stream",
          "name": "stdout",
          "text": [
            "Giá trị dự đoán:  7\n"
          ]
        },
        {
          "output_type": "display_data",
          "data": {
            "image/png": "[encoded data removed]",
            "text/plain": [
              "<Figure size 432x288 with 1 Axes>"
            ]
          },
          "metadata": {
            "needs_background": "light"
          }
        }
      ]
    }
  ]
}