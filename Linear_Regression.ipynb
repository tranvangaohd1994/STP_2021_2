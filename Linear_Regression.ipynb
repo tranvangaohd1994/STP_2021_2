{
  "nbformat": 4,
  "nbformat_minor": 0,
  "metadata": {
    "colab": {
      "name": "Linear Regression.ipynb",
      "provenance": [],
      "mount_file_id": "1Yxo5aBTC7_FcABY8352_ANoitvObsITV",
      "authorship_tag": "ABX9TyMgNFVF2eeHHn7iF2Fd67BR",
      "include_colab_link": true
    },
    "kernelspec": {
      "name": "python3",
      "display_name": "Python 3"
    },
    "language_info": {
      "name": "python"
    }
  },
  "cells": [
    {
      "cell_type": "markdown",
      "metadata": {
        "id": "view-in-github",
        "colab_type": "text"
      },
      "source": [
        "<a href=\"https://colab.research.google.com/github/tranvangaohd1994/STP_2021_2/blob/KhanhNQ/Linear_Regression.ipynb\" target=\"_parent\"><img src=\"https://colab.research.google.com/assets/colab-badge.svg\" alt=\"Open In Colab\"/></a>"
      ]
    },
    {
      "cell_type": "code",
      "metadata": {
        "id": "R181AQdRk1DK"
      },
      "source": [
        "import numpy as np\n",
        "import pandas as pd\n",
        "from matplotlib import pyplot as plt"
      ],
      "execution_count": null,
      "outputs": []
    },
    {
      "cell_type": "code",
      "metadata": {
        "id": "cDgVtBeRlBTl"
      },
      "source": [
        "data = pd.read_csv('data_linear.csv').values\n",
        "N = data.shape[0]"
      ],
      "execution_count": null,
      "outputs": []
    },
    {
      "cell_type": "code",
      "metadata": {
        "id": "sE3Mi5OFlPNd"
      },
      "source": [
        "x = data[:,0].reshape(-1,1)\n",
        "y = data[:,1].reshape(-1,1)"
      ],
      "execution_count": null,
      "outputs": []
    },
    {
      "cell_type": "code",
      "metadata": {
        "id": "DVm5H5UOleEr"
      },
      "source": [
        "x = np.hstack((np.ones((N,1)), x))"
      ],
      "execution_count": null,
      "outputs": []
    },
    {
      "cell_type": "code",
      "metadata": {
        "id": "fyDqA264loA4"
      },
      "source": [
        "w = np.array([0.0,1.0]).reshape(-1,1)"
      ],
      "execution_count": null,
      "outputs": []
    },
    {
      "cell_type": "code",
      "metadata": {
        "id": "aUNUuBOEmEDo"
      },
      "source": [
        "num_iteration = 100\n",
        "cost = np.zeros((num_iteration,1))\n",
        "learning_rate = 0.000001"
      ],
      "execution_count": null,
      "outputs": []
    },
    {
      "cell_type": "code",
      "metadata": {
        "colab": {
          "base_uri": "https://localhost:8080/"
        },
        "id": "rKxL7G9AmPJS",
        "outputId": "0f65981d-3a87-48c0-be25-7640e313dd6c"
      },
      "source": [
        "for i in range(1, num_iteration):\n",
        "  r = np.dot(x,w) - y\n",
        "  cost[i] = 0.5*np.sum(r*r)\n",
        "  w[0] -= learning_rate*np.sum(r)\n",
        "  w[1] -= learning_rate*np.sum(np.multiply(r, x[:,1].reshape(-1,1)))\n",
        "  print(cost[i])"
      ],
      "execution_count": null,
      "outputs": [
        {
          "output_type": "stream",
          "name": "stdout",
          "text": [
            "[13928360.24572192]\n",
            "[10305463.76399126]\n",
            "[7625171.90489181]\n",
            "[5642237.94962004]\n",
            "[4175223.43114612]\n",
            "[3089896.51355093]\n",
            "[2286949.77835162]\n",
            "[1692913.59520158]\n",
            "[1253433.65033721]\n",
            "[928297.52659002]\n",
            "[687755.26700972]\n",
            "[509797.25365073]\n",
            "[378140.32741743]\n",
            "[280737.87892347]\n",
            "[208677.58367117]\n",
            "[155365.92431433]\n",
            "[115924.88378723]\n",
            "[86745.6067182]\n",
            "[65158.18914452]\n",
            "[49187.38228621]\n",
            "[37371.85727254]\n",
            "[28630.49354285]\n",
            "[22163.45630971]\n",
            "[17379.01167179]\n",
            "[13839.38295884]\n",
            "[11220.6941641]\n",
            "[9283.3352881]\n",
            "[7850.03802237]\n",
            "[6789.65569839]\n",
            "[6005.16336671]\n",
            "[5424.78001361]\n",
            "[4995.40059793]\n",
            "[4677.73693957]\n",
            "[4442.7228508]\n",
            "[4268.85457992]\n",
            "[4140.22321789]\n",
            "[4045.05903305]\n",
            "[3974.65454064]\n",
            "[3922.56776787]\n",
            "[3884.0328134]\n",
            "[3855.52376732]\n",
            "[3834.43209042]\n",
            "[3818.82793277]\n",
            "[3807.28355249]\n",
            "[3798.74267738]\n",
            "[3792.42385593]\n",
            "[3787.74895458]\n",
            "[3784.29025847]\n",
            "[3781.73133552]\n",
            "[3779.83808289]\n",
            "[3778.43730658]\n",
            "[3777.40087419]\n",
            "[3776.63399077]\n",
            "[3776.06652512]\n",
            "[3775.64659276]\n",
            "[3775.33580849]\n",
            "[3775.10577418]\n",
            "[3774.93548033]\n",
            "[3774.80938368]\n",
            "[3774.71598499]\n",
            "[3774.64677693]\n",
            "[3774.59546557]\n",
            "[3774.55739457]\n",
            "[3774.52911904]\n",
            "[3774.5080904]\n",
            "[3774.49242316]\n",
            "[3774.48072239]\n",
            "[3774.4719561]\n",
            "[3774.46536078]\n",
            "[3774.46037161]\n",
            "[3774.4565707]\n",
            "[3774.45364887]\n",
            "[3774.45137743]\n",
            "[3774.44958714]\n",
            "[3774.44815282]\n",
            "[3774.44698186]\n",
            "[3774.44600574]\n",
            "[3774.44517376]\n",
            "[3774.44444842]\n",
            "[3774.44380198]\n",
            "[3774.44321391]\n",
            "[3774.44266902]\n",
            "[3774.44215608]\n",
            "[3774.44166678]\n",
            "[3774.44119497]\n",
            "[3774.44073609]\n",
            "[3774.44028679]\n",
            "[3774.43984457]\n",
            "[3774.43940759]\n",
            "[3774.43897449]\n",
            "[3774.43854425]\n",
            "[3774.43811614]\n",
            "[3774.43768961]\n",
            "[3774.43726423]\n",
            "[3774.43683972]\n",
            "[3774.43641584]\n",
            "[3774.43599244]\n",
            "[3774.43556939]\n",
            "[3774.4351466]\n"
          ]
        }
      ]
    },
    {
      "cell_type": "code",
      "metadata": {
        "colab": {
          "base_uri": "https://localhost:8080/",
          "height": 265
        },
        "id": "wm8TbEE8nAXV",
        "outputId": "e868233c-4337-4a03-ef58-5d76dd4baabc"
      },
      "source": [
        "predict = np.dot(x,w)\n",
        "plt.plot((x[0][1], x[N-1][1]),(predict[0], predict[N-1]), 'r')\n",
        "plt.show()"
      ],
      "execution_count": null,
      "outputs": [
        {
          "output_type": "display_data",
          "data": {
            "image/png": "[encoded data removed]",
            "text/plain": [
              "<Figure size 432x288 with 1 Axes>"
            ]
          },
          "metadata": {
            "needs_background": "light"
          }
        }
      ]
    },
    {
      "cell_type": "code",
      "metadata": {
        "id": "TZuwe9RcncQE"
      },
      "source": [
        ""
      ],
      "execution_count": null,
      "outputs": []
    }
  ]
}